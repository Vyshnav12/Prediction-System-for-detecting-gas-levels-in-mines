{
 "cells": [
  {
   "cell_type": "markdown",
   "metadata": {},
   "source": [
    "# Time Series Forecasting Using ARIMA For Gas Levels In Mines"
   ]
  },
  {
   "cell_type": "code",
   "execution_count": 1,
   "metadata": {},
   "outputs": [],
   "source": [
    "import pandas as pd\n",
    "from pandas import Series\n",
    "from matplotlib import pyplot\n",
    "from statsmodels.tsa.arima_model import ARIMA\n",
    "from statsmodels.tsa.statespace.sarimax import SARIMAX\n",
    "from sklearn.metrics import mean_squared_error\n",
    "from math import sqrt\n",
    "import numpy as np\n",
    "from statsmodels.tsa.stattools import adfuller\n",
    "from statsmodels.graphics.tsaplots import plot_acf, plot_pacf\n",
    "import matplotlib.pyplot as plt\n",
    "from matplotlib import style"
   ]
  },
  {
   "cell_type": "markdown",
   "metadata": {},
   "source": [
    "## Declaring the Prediction & Difference Functions"
   ]
  },
  {
   "cell_type": "code",
   "execution_count": 2,
   "metadata": {},
   "outputs": [],
   "source": [
    "# Predict function takes in two args, the coefficient of the AR part or the coefficient of the MA part and the previous values\n",
    "# or the training dataset\n",
    "def predict(coeff, o_val):\n",
    "    y_t = 0.0\n",
    "    for i in range(1, len(coeff)+1):\n",
    "        y_t += coeff[i-1] * o_val[-i]\n",
    "    return y_t\n",
    "\n",
    "# Difference function takes in the data set and computes the difference betweeen the elements of the column so as to make the \n",
    "# data stationary as the ARIMA function relies on the data being stationary.\n",
    "def difference(data):\n",
    "    diff = list()\n",
    "    for i in range(1, len(data)):\n",
    "        val = data[i] - data[i - 1]\n",
    "        diff.append(val)\n",
    "    return np.array(diff)"
   ]
  },
  {
   "cell_type": "markdown",
   "metadata": {},
   "source": [
    "## ARIMA prediction model"
   ]
  },
  {
   "cell_type": "code",
   "execution_count": null,
   "metadata": {},
   "outputs": [],
   "source": [
    "#Import CH4 Data\n",
    "ch4 = pd.read_csv('ch4.csv',index_col=0)\n",
    "\n",
    "#Store the timestamps in time_index\n",
    "time_index = ch4.index\n",
    "\n",
    "series = pd.Series(ch4['CH4_ppm'])\n",
    "gas_level = series.values\n",
    "\n",
    "# Determine the size of the training dataset\n",
    "size = len(gas_level) - 400\n",
    "\n",
    "# Set the prediction times\n",
    "time_pred = (pd.date_range(time_index[size], periods=len(gas_level)-size, freq=\"5S\")).time\n",
    "\n",
    "train, test = gas_level[0:size], gas_level[size:] # Seperates the training and test datasets\n",
    "o_val = [x for x in train]\n",
    "predictions = list()\n",
    "ppm = list()\n",
    "\n",
    "#This loop implements the ARIMA algorithm with the arguments p(AR coeff),d(difference),q(MA coeff) values as 1,1,1\n",
    "for t in range(len(test)):\n",
    "    model = SARIMAX(o_val, order=(1,1,1))\n",
    "    model_fit = model.fit(trend='nc', disp=False)\n",
    "    #model_fit_conf_int = model_fit.get_forecast(steps=len(X)-size).conf_int()\n",
    "    ar_coef, ma_coef = model_fit.arparams, model_fit.maparams  # Assign the weights of the AR and MA models\n",
    "    resid = model_fit.resid  #Calculating residues\n",
    "    diff = difference(o_val)\n",
    "    y_t = o_val[-1] + predict(ar_coef, diff) + predict(ma_coef, resid) \n",
    "    predictions.append(y_t)\n",
    "    obs = test[t]\n",
    "    ppm.append(obs)\n",
    "    o_val.append(obs)\n",
    "    print('predicted_gas_value=%.4f, actual_gas_value=%.4f' % (y_t, obs))\n",
    "\n",
    "dict = {'time':time_pred, 'CH4_ppm':ppm}\n",
    "rmse = sqrt(mean_squared_error(test, predictions)) # Root Mean Square Error\n",
    "print('Test RMSE: %.3f' % rmse)\n",
    "pred_data = pd.DataFrame(dict)\n",
    "pred_data.set_index('time',inplace=True)\n",
    "\n",
    "\n",
    "ch4.index = pd.DatetimeIndex(ch4.index.values, freq='5S')\n",
    "ch4.index = ch4.index.time"
   ]
  },
  {
   "cell_type": "markdown",
   "metadata": {},
   "source": [
    "## Plotting Predicted vs Actual Data"
   ]
  },
  {
   "cell_type": "code",
   "execution_count": null,
   "metadata": {},
   "outputs": [],
   "source": [
    "plt.figure(figsize=(20,10))\n",
    "\n",
    "# Plot past CH4 levels\n",
    "plt.plot(ch4.index.values, ch4.values, label='past')\n",
    "\n",
    "# Plot the prediction means as line\n",
    "plt.plot(data.index, data['CH4_ppm'] , label='predicted')\n",
    "\n",
    "plt.gcf().autofmt_xdate()\n",
    "\n",
    "# Save the recorded prediction data to csv file.\n",
    "#data.to_csv('ch4_pred.csv',  float_format='%g')\n",
    "\n",
    "# Plot legend and show figure\n",
    "\n",
    "plt.legend()\n",
    "plt.show()"
   ]
  }
 ],
 "metadata": {
  "kernelspec": {
   "display_name": "Python 3",
   "language": "python",
   "name": "python3"
  },
  "language_info": {
   "codemirror_mode": {
    "name": "ipython",
    "version": 3
   },
   "file_extension": ".py",
   "mimetype": "text/x-python",
   "name": "python",
   "nbconvert_exporter": "python",
   "pygments_lexer": "ipython3",
   "version": "3.7.3"
  }
 },
 "nbformat": 4,
 "nbformat_minor": 2
}
