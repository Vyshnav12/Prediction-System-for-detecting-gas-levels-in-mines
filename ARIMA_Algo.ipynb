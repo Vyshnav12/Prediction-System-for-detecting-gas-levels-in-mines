import math
import numpy as np
import datetime
import pandas as pd
from sklearn.model_selection import cross_val_score
import matplotlib.pyplot as plt
from matplotlib import style
from statsmodels.tsa.stattools import adfuller
from statsmodels.tsa.statespace.sarimax import SARIMAX
from statsmodels.graphics.tsaplots import plot_acf, plot_pacf
