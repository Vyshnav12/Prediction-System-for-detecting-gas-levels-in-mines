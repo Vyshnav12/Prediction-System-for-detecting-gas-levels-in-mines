{
 "cells": [
  {
   "cell_type": "markdown",
   "metadata": {},
   "source": [
    "# ARIMA Algorithm for Predicting the CH4 Levels in a Mine"
   ]
  },
  {
   "cell_type": "code",
   "execution_count": 1,
   "metadata": {},
   "outputs": [],
   "source": [
    "import math\n",
    "import numpy as np\n",
    "import datetime\n",
    "import pandas as pd\n",
    "from sklearn.model_selection import cross_val_score\n",
    "import matplotlib.pyplot as plt\n",
    "from matplotlib import style\n",
    "from statsmodels.tsa.stattools import adfuller\n",
    "from statsmodels.tsa.statespace.sarimax import SARIMAX\n",
    "from statsmodels.graphics.tsaplots import plot_acf, plot_pacf"
   ]
  },
  {
   "cell_type": "markdown",
   "metadata": {},
   "source": [
    "## Prediction Model"
   ]
  },
  {
   "cell_type": "code",
   "execution_count": null,
   "metadata": {},
   "outputs": [],
   "source": [
    "#Import CH4 Data\n",
    "ch4 = pd.read_csv('ch4.csv',index_col=0)\n",
    "\n",
    "#Set datetime frequency\n",
    "ch4.index = pd.DatetimeIndex(ch4.index.values, freq='5S')\n",
    "\n",
    "# Create model object\n",
    "model = SARIMAX(ch4['CH4_ppm'], order=(1,0,1),seasonal_order=(1,1, 1, 8), trend='c')\n",
    "\n",
    "# Fit model\n",
    "results = model.fit()\n",
    "\n",
    "# Create forecast object\n",
    "forecast_object = results.get_forecast(steps=500)\n",
    "\n",
    "# Extract prediction mean\n",
    "mean = forecast_object.predicted_mean\n",
    "\n",
    "# Extract the confidence intervals\n",
    "conf_int = forecast_object.conf_int()\n",
    "\n",
    "# Extract the forecast dates\n",
    "time = mean.index\n",
    "\n",
    "#Set lower bound for the confidence interval\n",
    "for i in range(len(conf_int)):\n",
    "    if conf_int.iloc[i]['lower CH4_ppm'] < 0:\n",
    "        conf_int.iloc[i]['lower CH4_ppm'] = 0       "
   ]
  },
  {
   "cell_type": "markdown",
   "metadata": {},
   "source": [
    "## Plotting Data"
   ]
  },
  {
   "cell_type": "code",
   "execution_count": null,
   "metadata": {},
   "outputs": [],
   "source": [
    "plt.figure()\n",
    "\n",
    "# Plot past CH4 levels\n",
    "plt.plot(ch4.index.values, ch4.values, label='past')\n",
    "\n",
    "# Plot the prediction means as line\n",
    "plt.plot(time, mean, label='predicted')\n",
    "\n",
    "# Shade between the confidence intervals\n",
    "plt.fill_between(time, conf_int.iloc[:,0], conf_int.iloc[:,1], alpha=0.1)\n",
    "\n",
    "plt.gcf().autofmt_xdate()\n",
    "\n",
    "# Plot legend and show figure\n",
    "plt.legend()\n",
    "plt.show()"
   ]
  }
 ],
 "metadata": {
  "kernelspec": {
   "display_name": "Python 3",
   "language": "python",
   "name": "python3"
  },
  "language_info": {
   "codemirror_mode": {
    "name": "ipython",
    "version": 3
   },
   "file_extension": ".py",
   "mimetype": "text/x-python",
   "name": "python",
   "nbconvert_exporter": "python",
   "pygments_lexer": "ipython3",
   "version": "3.7.3"
  }
 },
 "nbformat": 4,
 "nbformat_minor": 2
}
